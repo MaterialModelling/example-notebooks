{
 "cells": [
  {
   "cell_type": "markdown",
   "metadata": {},
   "source": [
    "# Asymptotic Homogenisation\n",
    "\n",
    "This notebook uses asymptotic homohenisation to homogenise the heat equation over a **periodic** domain.\n",
    "\n",
    "## The problem\n",
    "\n",
    "We seek a homogenised model of the heat equation with spatially varying, but periodic heat conduction $\\lambda(y)$ with $y$ being a periodic spatial coordinate $y\\mapsto x/\\epsilon$.\n",
    "\n",
    "$$\n",
    "-\\nabla\\cdot(\\lambda\\nabla u) = 0\n",
    "$$\n",
    "\n",
    "with $\\lambda(x)$ having period $\\epsilon$. \n",
    "\n",
    "## Homogenised equation\n",
    "\n",
    "Through asymptotic homogenisation, the solution can be constructed in a power series in $\\epsilon$\n",
    "\n",
    "$$\n",
    "u_\\epsilon(x,y) = \\sum_{i=0}^\\infty \\epsilon^i u_i(x,y)\n",
    "$$\n",
    "\n",
    "Inserting into the heat equation and through manupulation of the set of equations generated through grouping acording to powers of $\\epsilon$, the following homogenised model can be constructed:\n",
    "\n",
    "$$\n",
    "-\\nabla\\cdot {\\bf A}\\nabla u_0(x) = 0\\\\\n",
    "A_{ij} = \\int_Y \\lambda(y)\\cdot(e_j + \\nabla_y w_j)\\cdot(e_i + \\nabla_y w_i)\\,dy\\\\\n",
    "-\\nabla_y\\cdot \\lambda(y)(e_i+ \\nabla_y w_i) = 0\\quad y\\mapsto w(y)\\\\\n",
    "$$"
   ]
  },
  {
   "cell_type": "markdown",
   "metadata": {},
   "source": [
    "# Solution using FEM"
   ]
  },
  {
   "cell_type": "code",
   "execution_count": 372,
   "metadata": {},
   "outputs": [],
   "source": [
    "from dolfin import *;\n",
    "import matplotlib.pyplot as plt;\n",
    "import numpy as np;\n",
    "\n",
    "## Numerical parameter\n",
    "nx = 100      # Grid-size horizontal\n",
    "ny = 100     # Grid-size vertical\n",
    "\n",
    "## Problem parameter\n",
    "alpha = 0.01\n",
    "radius = 0.75"
   ]
  },
  {
   "cell_type": "markdown",
   "metadata": {},
   "source": [
    "## Definition of domain and mesh"
   ]
  },
  {
   "cell_type": "code",
   "execution_count": 373,
   "metadata": {},
   "outputs": [
    {
     "data": {
      "image/png": "[encoded data removed]",
      "text/plain": [
       "<Figure size 576x576 with 1 Axes>"
      ]
     },
     "metadata": {
      "needs_background": "light"
     },
     "output_type": "display_data"
    }
   ],
   "source": [
    "mesh = RectangleMesh(Point(-1.0,-1.0),Point(1.,1.),nx,ny,\"crossed\");\n",
    "V = FunctionSpace(mesh, \"Lagrange\", 2);\n",
    "\n",
    "plt.figure(figsize=(8,8));\n",
    "plot(mesh, title=\"Mesh\");"
   ]
  },
  {
   "cell_type": "markdown",
   "metadata": {},
   "source": [
    "## Subdomains\n",
    "\n",
    "We will define subdomains for the regions with different heat conductivity"
   ]
  },
  {
   "cell_type": "code",
   "execution_count": 374,
   "metadata": {},
   "outputs": [
    {
     "data": {
      "image/png": "[encoded data removed]",
      "text/plain": [
       "<Figure size 720x432 with 1 Axes>"
      ]
     },
     "metadata": {
      "needs_background": "light"
     },
     "output_type": "display_data"
    }
   ],
   "source": [
    "class OmegaA(SubDomain):\n",
    "    \n",
    "    r = 1.0;\n",
    "    \n",
    "    def __init__(self,r):\n",
    "        super(OmegaA, self).__init__()\n",
    "        self.r = r;\n",
    "        \n",
    "    def inside(self, x, on_boundary):\n",
    "        return (x[0]*x[0] + x[1]*x[1]) < self.r**2;\n",
    "\n",
    "# Sub domain for Periodic boundary condition\n",
    "class PeriodicBoundary(SubDomain):\n",
    "\n",
    "    # Left boundary is \"target domain\" G\n",
    "    def inside(self, x, on_boundary):\n",
    "        # return True if on left or bottom boundary AND NOT on one of the two corners (0, 1) and (1, 0)\n",
    "        return bool((near(x[0], -1.) or near(x[1], -1.)) and \n",
    "                (not ((near(x[0], -1.) and near(x[1], 1.)) or \n",
    "                        (near(x[0], 1.) and near(x[1], -1.)))) and on_boundary)\n",
    "\n",
    "    def map(self, x, y):\n",
    "        if near(x[0], 1.) and near(x[1], 1.):\n",
    "            y[0] = x[0] - 2.\n",
    "            y[1] = x[1] - 2.\n",
    "        elif near(x[0], 1.):\n",
    "            y[0] = x[0] - 2.\n",
    "            y[1] = x[1]\n",
    "        else:   # near(x[1], 1)\n",
    "            y[0] = x[0]\n",
    "            y[1] = x[1] - 2.\n",
    "\n",
    "        \n",
    "# Create periodic boundary condition\n",
    "pbc = PeriodicBoundary()\n",
    "# Initialize sub-domain instances\n",
    "omegaA = OmegaA(radius)\n",
    "\n",
    "# Initialize mesh function for interior domains\n",
    "domains = MeshFunction(\"size_t\", mesh, mesh.topology().dim())\n",
    "domains.set_all(0)\n",
    "omegaA.mark(domains, 1)\n",
    "\n",
    "plt.figure(figsize=(10,6));\n",
    "plot(domains);"
   ]
  },
  {
   "cell_type": "markdown",
   "metadata": {},
   "source": [
    "## Variational Form\n",
    "\n",
    "$$\n",
    "-\\int_\\Omega \\nabla_y\\cdot \\lambda(y)(e_i + \\nabla_y w_i)\\cdot v\\,dy = 0\\\\\n",
    "-\\int_{\\partial\\Omega}\\lambda(y)(e_i + \\nabla_y w_i)\\cdot n\\cdot v\\,ds + \\int_\\Omega \\lambda(y)(e_i + \\nabla_y w_i)\\cdot \\nabla_y v\\,dy = 0\\\\\n",
    "-\\int_{\\partial\\Omega}\\lambda(y)(\\nabla_y w_i\\cdot n)\\cdot v\\,ds + \\int_\\Omega \\lambda(y)( \\nabla_y w_i\\cdot \\nabla_y v)\\,dy = \\int_{\\partial\\Omega}\\lambda(y)(e_i\\cdot n)\\cdot v\\,ds -\\int_\\Omega \\lambda(y)(e\\cdot\\nabla_y v)\\,dy\n",
    "$$"
   ]
  },
  {
   "cell_type": "code",
   "execution_count": 375,
   "metadata": {},
   "outputs": [],
   "source": [
    "def solution(e,alpha):\n",
    "    '''\n",
    "    Compute solution of the auxilary problem for a given drift vector e\n",
    "    \n",
    "    Returns the solved field w(y)\n",
    "    '''\n",
    "    \n",
    "    V = FunctionSpace(mesh, \"CG\", 1, constrained_domain=pbc)\n",
    "\n",
    "    # Define variational problem\n",
    "    w = TrialFunction(V)\n",
    "    v = TestFunction(V)\n",
    "\n",
    "    # Define new measures associated with the interior domains\n",
    "    dy = Measure('dx', domain=mesh, subdomain_data=domains)\n",
    "    \n",
    "    e = Constant(e)\n",
    "    alpha = Constant(alpha)\n",
    "\n",
    "    # Create facet normals for boundary integrals. \n",
    "    # Note: taking the outward facing facets creates a solution that breaks symmetry\n",
    "    #       Not sure what is correct, for now we go with the high symmetry solution\n",
    "    #       and flip the normals\n",
    "    n = -FacetNormal(mesh)\n",
    "\n",
    "    a1 = -inner(grad(w),n)*v*ds\n",
    "    a2 =  dot(grad(w), grad(v))*dy(0)\n",
    "    a3 =  alpha*dot(grad(w), grad(v))*dy(1)\n",
    "    a  =  a1+a2+a3\n",
    "\n",
    "    l1 =  inner(e,n)*v*ds\n",
    "    l2 = -dot(e,grad(v))*dy(0)\n",
    "    l3 = -alpha*dot(e,grad(v))*dy(1)\n",
    "    L  =  l1+l2+l3\n",
    "    \n",
    "    u = Function(V)\n",
    "    solve(a == L, u);\n",
    "    \n",
    "    return u"
   ]
  },
  {
   "cell_type": "code",
   "execution_count": 376,
   "metadata": {},
   "outputs": [
    {
     "data": {
      "text/plain": [
       "<matplotlib.tri.tricontour.TriContourSet at 0x7f1325a966a0>"
      ]
     },
     "execution_count": 376,
     "metadata": {},
     "output_type": "execute_result"
    },
    {
     "data": {
      "image/png": "[encoded data removed]",
      "text/plain": [
       "<Figure size 720x576 with 2 Axes>"
      ]
     },
     "metadata": {
      "needs_background": "light"
     },
     "output_type": "display_data"
    }
   ],
   "source": [
    "w = [None,None]\n",
    "w[0] = solution((1.,0),alpha)\n",
    "w[1] = solution((0,1.),alpha)\n",
    "\n",
    "\n",
    "fig=plt.figure(figsize=(10, 8));\n",
    "fig.add_subplot(1, 2, 1);\n",
    "plot(w[0])\n",
    "fig.add_subplot(1, 2, 2);\n",
    "plot(w[1])"
   ]
  },
  {
   "cell_type": "markdown",
   "metadata": {},
   "source": [
    "## Effective Transport Coefficients\n",
    "\n",
    "The transport coefficient matrix can be computed from:\n",
    "$$\n",
    "A_{ij} = \\int_Y \\lambda(y)\\cdot(e_j + \\nabla_y w_j)\\cdot(e_i + \\nabla_y w_i)\\,dy\\\\\n",
    "$$"
   ]
  },
  {
   "cell_type": "code",
   "execution_count": 379,
   "metadata": {},
   "outputs": [],
   "source": [
    "def effective_coeff(w,domains,alpha):\n",
    "    '''\n",
    "    Compute effective transport matrix for solution w\n",
    "    '''\n",
    "    \n",
    "    A = np.zeros((2,2))\n",
    "    \n",
    "    e = [None,None]\n",
    "    e[0] = Constant((1.,0))\n",
    "    e[1] = Constant((0,1.))\n",
    "    \n",
    "    dx = Measure('dx', domain=mesh, subdomain_data=domains)\n",
    "    total = assemble(Constant(1.0)*dx)\n",
    "    \n",
    "    for i in range(2):\n",
    "        for j in range(2):\n",
    "            gj = grad(w[j])\n",
    "            gi = grad(w[i])\n",
    "            ej = e[j]\n",
    "            ei = e[i]\n",
    "            A[i,j] = assemble(\n",
    "                      dot(ej+gj,ei+gi)*dx(0)\n",
    "                    + alpha*dot(ej+gj,ei+gi)*dx(1)\n",
    "            ) / total;\n",
    "            \n",
    "    return A\n",
    "\n",
    "def phase_fraction(domains):\n",
    "    '''\n",
    "    Computes the phase fraction of the problem\n",
    "    '''\n",
    "    \n",
    "    dx = Measure('dx', domain=mesh, subdomain_data=domains)\n",
    "    \n",
    "    total = assemble(Constant(1.0)*dx)\n",
    "    phase = assemble(Constant(1.0)*dx(1))\n",
    "    \n",
    "    return phase/total\n",
    "    "
   ]
  },
  {
   "cell_type": "code",
   "execution_count": 380,
   "metadata": {},
   "outputs": [
    {
     "name": "stdout",
     "output_type": "stream",
     "text": [
      "Phase fraction: 0.432599999999522\n"
     ]
    },
    {
     "data": {
      "text/plain": [
       "array([[3.99303056e-01, 7.47559309e-19],\n",
       "       [7.47559309e-19, 3.99303056e-01]])"
      ]
     },
     "execution_count": 380,
     "metadata": {},
     "output_type": "execute_result"
    }
   ],
   "source": [
    "print(\"Phase fraction: {}\".format(phase_fraction(domains)))\n",
    "effective_coeff(w,domains,alpha)"
   ]
  },
  {
   "cell_type": "code",
   "execution_count": null,
   "metadata": {},
   "outputs": [],
   "source": []
  }
 ],
 "metadata": {
  "kernelspec": {
   "display_name": "Python 3",
   "language": "python",
   "name": "python3"
  },
  "language_info": {
   "codemirror_mode": {
    "name": "ipython",
    "version": 3
   },
   "file_extension": ".py",
   "mimetype": "text/x-python",
   "name": "python",
   "nbconvert_exporter": "python",
   "pygments_lexer": "ipython3",
   "version": "3.7.3"
  }
 },
 "nbformat": 4,
 "nbformat_minor": 4
}
