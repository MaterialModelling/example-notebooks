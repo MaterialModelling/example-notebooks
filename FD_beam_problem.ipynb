{
 "cells": [
  {
   "cell_type": "markdown",
   "metadata": {},
   "source": [
    "# Beam Problem solution in finite differences\n",
    "\n",
    "We will solve the beam problem using a simple finite differences scheme. Let the deflection of a beam be given by the fourth order differential equation\n",
    "\n",
    "$$\n",
    "u^{(4)} = -\\alpha\n",
    "$$\n",
    "\n",
    "We seek a solution with boundary conditions:\n",
    "\n",
    "1. Vertically fixed at $x=0$: $u(x=0) = 0$\n",
    "2. Horizontally fixed at $x=0$: $\\partial_x u(x=0) = 0$\n",
    "3. No strain at $x=1$: $\\partial^2_x(x=1) = 0$\n",
    "4. Smoothness of strain at $x=1$: $\\partial^3_x(x=1) = 0$"
   ]
  },
  {
   "cell_type": "markdown",
   "metadata": {},
   "source": [
    "## Simulation parameters\n",
    "\n",
    "We first define some parameters for the simulation"
   ]
  },
  {
   "cell_type": "code",
   "execution_count": 1,
   "metadata": {},
   "outputs": [],
   "source": [
    "alpha = 1 # The normalised body force\n",
    "N = 1000    # Number of grid points\n",
    "\n",
    "dx = 1.0/(N-1); # grid-spacing"
   ]
  },
  {
   "cell_type": "markdown",
   "metadata": {},
   "source": [
    "## Assemble matrix and vector"
   ]
  },
  {
   "cell_type": "markdown",
   "metadata": {},
   "source": [
    "Lets first assemble equations for the interior of the domain. Because we deal with a fourth order differential equation, we need to use at least a five-point stencil. The simplest stencil is the central difference:\n",
    "\n",
    "$$\n",
    "\\Delta^4 = [\\begin{matrix}1&-4&6&-4&1\\end{matrix}]\n",
    "$$\n",
    "\n",
    "Note that this stencil goes two points to the right and two points to the left. So we need to come up with something else for the first **two** and last **two** points of the domain. But first lets define equations for the interior:"
   ]
  },
  {
   "cell_type": "code",
   "execution_count": 2,
   "metadata": {},
   "outputs": [
    {
     "data": {
      "text/plain": [
       "array([[ 0.,  0.,  0., ...,  0.,  0.,  0.],\n",
       "       [ 0.,  0.,  0., ...,  0.,  0.,  0.],\n",
       "       [ 1., -4.,  6., ...,  0.,  0.,  0.],\n",
       "       ...,\n",
       "       [ 0.,  0.,  0., ...,  6., -4.,  1.],\n",
       "       [ 0.,  0.,  0., ...,  0.,  0.,  0.],\n",
       "       [ 0.,  0.,  0., ...,  0.,  0.,  0.]])"
      ]
     },
     "execution_count": 2,
     "metadata": {},
     "output_type": "execute_result"
    }
   ],
   "source": [
    "import numpy as np # Numpy is a very handy library for sintific computations in python.\n",
    "\n",
    "A = np.zeros((N,N)); # Create matrix with lots of zeros for each point of the domain\n",
    "f = np.zeros(N); # Create vector to hold the right-hand sides\n",
    "\n",
    "for i in range(2,N-2): \n",
    "    A[i,i-2] = 1.0;\n",
    "    A[i,i-1] = -4.0;\n",
    "    A[i,i] = 6.0;\n",
    "    A[i,i+1] = -4.0;\n",
    "    A[i,i+2] = 1.0;\n",
    "A"
   ]
  },
  {
   "cell_type": "markdown",
   "metadata": {},
   "source": [
    "The right-hand side is equalt to alpha within the interior"
   ]
  },
  {
   "cell_type": "code",
   "execution_count": 3,
   "metadata": {},
   "outputs": [],
   "source": [
    "for i in range(2,N-2):\n",
    "    f[i] = -alpha*dx**4;"
   ]
  },
  {
   "cell_type": "markdown",
   "metadata": {},
   "source": [
    "## Boundary conditions"
   ]
  },
  {
   "cell_type": "code",
   "execution_count": 4,
   "metadata": {},
   "outputs": [],
   "source": [
    "# Dirichlet boundary condition for x=0 (u(0) = 0)\n",
    "A[0,0] = 1;\n",
    "f[0] = 0;\n",
    "\n",
    "# Neumann boundary condition fox x = 0 (du/dx(0) = 0)\n",
    "A[1,0:2] = [1,-1];\n",
    "f[1] = 0\n",
    "\n",
    "# Neumann boundary condition for x = 1 (d2u/dx2(1) = 0)\n",
    "A[N-2,N-3:N] = [1, -2, 1];\n",
    "f[N-2] = 0;\n",
    "\n",
    "# Neumann boundary condition for x = 1 (d3u/dx3(1) = 0)\n",
    "A[N-1,N-4:N] = [-1, 3, -3,1];\n",
    "f[N-1] = 0;"
   ]
  },
  {
   "cell_type": "code",
   "execution_count": 5,
   "metadata": {},
   "outputs": [
    {
     "data": {
      "text/plain": [
       "array([[ 1.,  0.,  0., ...,  0.,  0.,  0.],\n",
       "       [ 1., -1.,  0., ...,  0.,  0.,  0.],\n",
       "       [ 1., -4.,  6., ...,  0.,  0.,  0.],\n",
       "       ...,\n",
       "       [ 0.,  0.,  0., ...,  6., -4.,  1.],\n",
       "       [ 0.,  0.,  0., ...,  1., -2.,  1.],\n",
       "       [ 0.,  0.,  0., ...,  3., -3.,  1.]])"
      ]
     },
     "execution_count": 5,
     "metadata": {},
     "output_type": "execute_result"
    }
   ],
   "source": [
    "A"
   ]
  },
  {
   "cell_type": "markdown",
   "metadata": {},
   "source": [
    "## Solve the system of equations"
   ]
  },
  {
   "cell_type": "code",
   "execution_count": 6,
   "metadata": {},
   "outputs": [],
   "source": [
    "from numpy.linalg import solve\n",
    "\n",
    "u = solve(A,f)"
   ]
  },
  {
   "cell_type": "markdown",
   "metadata": {},
   "source": [
    "## Analytical solution"
   ]
  },
  {
   "cell_type": "code",
   "execution_count": 7,
   "metadata": {},
   "outputs": [],
   "source": [
    "x_ref = np.linspace(0,1,30)\n",
    "\n",
    "u_ref = -alpha*x_ref**2 * (1.0/4.0 - x_ref/6.0 + x_ref**2/24.0)"
   ]
  },
  {
   "cell_type": "markdown",
   "metadata": {},
   "source": [
    "## Plot solutions"
   ]
  },
  {
   "cell_type": "code",
   "execution_count": 9,
   "metadata": {},
   "outputs": [
    {
     "data": {
      "text/plain": [
       "[<matplotlib.lines.Line2D at 0x7f624c5b4048>]"
      ]
     },
     "execution_count": 9,
     "metadata": {},
     "output_type": "execute_result"
    },
    {
     "data": {
      "image/png": "[encoded data removed]",
      "text/plain": [
       "<Figure size 432x288 with 1 Axes>"
      ]
     },
     "metadata": {
      "needs_background": "light"
     },
     "output_type": "display_data"
    }
   ],
   "source": [
    "%matplotlib inline\n",
    "import matplotlib.pyplot as plt\n",
    "\n",
    "x = np.linspace(0,1,N)\n",
    "\n",
    "plt.xlabel('spatial coordinate x [-]')\n",
    "plt.ylabel('deflection of beam u(x) [-]')\n",
    "plt.plot(x,u,'o-')\n",
    "plt.plot(x_ref,u_ref,'r-')\n"
   ]
  },
  {
   "cell_type": "code",
   "execution_count": null,
   "metadata": {},
   "outputs": [],
   "source": []
  }
 ],
 "metadata": {
  "kernelspec": {
   "display_name": "Python 3",
   "language": "python",
   "name": "python3"
  },
  "language_info": {
   "codemirror_mode": {
    "name": "ipython",
    "version": 3
   },
   "file_extension": ".py",
   "mimetype": "text/x-python",
   "name": "python",
   "nbconvert_exporter": "python",
   "pygments_lexer": "ipython3",
   "version": "3.7.3"
  }
 },
 "nbformat": 4,
 "nbformat_minor": 4
}
