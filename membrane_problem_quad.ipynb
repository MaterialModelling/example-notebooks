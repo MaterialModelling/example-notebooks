{
 "cells": [
  {
   "cell_type": "markdown",
   "metadata": {},
   "source": [
    "# Elastic Membrane Problem using FEM"
   ]
  },
  {
   "cell_type": "markdown",
   "metadata": {},
   "source": [
    "We look for the deflection of an elastic membrane due  to a spatially varying body force. The problem is described by the Poisson equation\n",
    "\n",
    "$$\n",
    "\\nabla^2 u = -g(x)\\\\\n",
    "u=0 \\text{ on } \\partial\\Omega \n",
    "$$\n",
    "\n",
    "## Variational Form of Poisson's Equation\n",
    "\n",
    "To obtain a variational form, we first multiply with a test function $v$ and then integrate\n",
    "\n",
    "$$\n",
    "\\int_\\Omega \\nabla^2 u\\cdot v\\,dx = -\\int_\\Omega g\\cdot v\\,dx\n",
    "$$\n",
    "\n",
    "Most finite element basis sets can deal with first order derivatives, but not second order derivatives (because they are linear). Integration by parts allows to reduce the order of the PDE:\n",
    "\n",
    "$$\n",
    "\\int \\nabla^2 u\\cdot v\\,dx = \\int_{\\partial\\Omega} \\nabla u\\cdot v\\,ds - \\int_\\Omega \\nabla u\\cdot \\nabla v\\,dx\n",
    "$$\n",
    "\n",
    "The test function $v$ is *arbitrary* and we can choose functions that vanish on the boundary so that Poisson problem in variational form reads:\n",
    "\n",
    "$$\n",
    "\\int_\\Omega \\nabla u\\cdot \\nabla v\\,dx = \\int_\\Omega g\\cdot v\\,dx\n",
    "$$\n",
    "\n",
    "### A word on boundary conditions\n",
    "\n",
    "Using integration by parts as part of the construction of the variational form often leads to surface integrals along the boundary being part of the variational form. Parts of the boundary that are naturally expressed by these terms are called **natural boundary conditions**. Neumann boundary conditions are natural boundary conditions for the Poisson equation. Other boundary conditions need to be incorporated when constructing the basis set for the test functions. These boundary conditions are called **essential boundary conditions**. Both types can be mixed, but they need to be treated differently in the machinery."
   ]
  },
  {
   "cell_type": "markdown",
   "metadata": {},
   "source": [
    "# Finite-Element Problem\n",
    "\n",
    "We will use [FEniCS](https://fenicsproject.org/) to solve the variational form of Poissons equation. FEniCS is a \n",
    "platform to efficiently solve PDEs using the Finite-Element method. To solve a PDE in FEniCS, the following general steps\n",
    "need to be completed:\n",
    "    \n",
    "1. Formulate the problem in variational form, reducing higher order terms using integration by parts\n",
    "2. Discretise the computational domain into a mesh\n",
    "3. Select function spaces for the trial and test function\n",
    "4. Define *essential* boundary conditions\n",
    "5. Solve the problem"
   ]
  },
  {
   "cell_type": "markdown",
   "metadata": {},
   "source": [
    "The FEniCS Project consists of a number of components with DOLFIN and UFL providing the \n",
    "main user interface. Lets start by importing the dolfin package:"
   ]
  },
  {
   "cell_type": "code",
   "execution_count": 1,
   "metadata": {},
   "outputs": [],
   "source": [
    "from dolfin import *"
   ]
  },
  {
   "cell_type": "markdown",
   "metadata": {},
   "source": [
    "## Define domain\n",
    "\n",
    "We begin by defining a mesh of the domain and a finite element\n",
    "function space $V$ relative to this mesh. As the unit square is\n",
    "a very standard domain, we can use a built-in mesh provided by the\n",
    "`UnitSquareMesh`. In order\n",
    "to create a mesh consisting of 16 x 16 squares with each square\n",
    "divided into two triangles, we do as follows:"
   ]
  },
  {
   "cell_type": "code",
   "execution_count": 14,
   "metadata": {},
   "outputs": [],
   "source": [
    "mesh = UnitSquareMesh.create(32, 32,CellType.Type.quadrilateral);"
   ]
  },
  {
   "cell_type": "markdown",
   "metadata": {},
   "source": [
    "Lets have a look at the mesh. FEniCS comes with a few handy visualisation tools that work together with [matplotlib](https://matplotlib.org/), a very popular python library that provides a full suite of plotting tools."
   ]
  },
  {
   "cell_type": "code",
   "execution_count": 16,
   "metadata": {},
   "outputs": [
    {
     "ename": "AttributeError",
     "evalue": "Matplotlib plotting backend doesn't handle quadrilateral mesh.\nPossible options are saving the output to XDMF file or using 'x3dom' backend.",
     "output_type": "error",
     "traceback": [
      "\u001b[0;31m---------------------------------------------------------------------------\u001b[0m",
      "\u001b[0;31mAttributeError\u001b[0m                            Traceback (most recent call last)",
      "\u001b[0;32m<ipython-input-16-fc22953fd746>\u001b[0m in \u001b[0;36m<module>\u001b[0;34m\u001b[0m\n\u001b[1;32m      1\u001b[0m \u001b[0;32mimport\u001b[0m \u001b[0mmatplotlib\u001b[0m\u001b[0;34m.\u001b[0m\u001b[0mpyplot\u001b[0m \u001b[0;32mas\u001b[0m \u001b[0mplt\u001b[0m\u001b[0;34m\u001b[0m\u001b[0;34m\u001b[0m\u001b[0m\n\u001b[1;32m      2\u001b[0m \u001b[0mfig\u001b[0m \u001b[0;34m=\u001b[0m \u001b[0mplt\u001b[0m\u001b[0;34m.\u001b[0m\u001b[0mfigure\u001b[0m\u001b[0;34m(\u001b[0m\u001b[0mfigsize\u001b[0m\u001b[0;34m=\u001b[0m\u001b[0;34m(\u001b[0m\u001b[0;36m14\u001b[0m\u001b[0;34m,\u001b[0m\u001b[0;36m14\u001b[0m\u001b[0;34m)\u001b[0m\u001b[0;34m)\u001b[0m\u001b[0;34m\u001b[0m\u001b[0;34m\u001b[0m\u001b[0m\n\u001b[0;32m----> 3\u001b[0;31m \u001b[0mplot\u001b[0m\u001b[0;34m(\u001b[0m\u001b[0mmesh\u001b[0m\u001b[0;34m)\u001b[0m\u001b[0;34m\u001b[0m\u001b[0;34m\u001b[0m\u001b[0m\n\u001b[0m\u001b[1;32m      4\u001b[0m \u001b[0mplt\u001b[0m\u001b[0;34m.\u001b[0m\u001b[0mshow\u001b[0m\u001b[0;34m(\u001b[0m\u001b[0;34m)\u001b[0m\u001b[0;34m\u001b[0m\u001b[0;34m\u001b[0m\u001b[0m\n",
      "\u001b[0;32m/usr/local/lib/python3.6/dist-packages/dolfin/common/plotting.py\u001b[0m in \u001b[0;36mplot\u001b[0;34m(object, *args, **kwargs)\u001b[0m\n\u001b[1;32m    436\u001b[0m     \u001b[0;31m# Plot\u001b[0m\u001b[0;34m\u001b[0m\u001b[0;34m\u001b[0m\u001b[0;34m\u001b[0m\u001b[0m\n\u001b[1;32m    437\u001b[0m     \u001b[0;32mif\u001b[0m \u001b[0mbackend\u001b[0m \u001b[0;34m==\u001b[0m \u001b[0;34m\"matplotlib\"\u001b[0m\u001b[0;34m:\u001b[0m\u001b[0;34m\u001b[0m\u001b[0;34m\u001b[0m\u001b[0m\n\u001b[0;32m--> 438\u001b[0;31m         \u001b[0;32mreturn\u001b[0m \u001b[0m_plot_matplotlib\u001b[0m\u001b[0;34m(\u001b[0m\u001b[0mobject\u001b[0m\u001b[0;34m,\u001b[0m \u001b[0mmesh\u001b[0m\u001b[0;34m,\u001b[0m \u001b[0mkwargs\u001b[0m\u001b[0;34m)\u001b[0m\u001b[0;34m\u001b[0m\u001b[0;34m\u001b[0m\u001b[0m\n\u001b[0m\u001b[1;32m    439\u001b[0m     \u001b[0;32melif\u001b[0m \u001b[0mbackend\u001b[0m \u001b[0;34m==\u001b[0m \u001b[0;34m\"x3dom\"\u001b[0m\u001b[0;34m:\u001b[0m\u001b[0;34m\u001b[0m\u001b[0;34m\u001b[0m\u001b[0m\n\u001b[1;32m    440\u001b[0m         \u001b[0;32mreturn\u001b[0m \u001b[0m_plot_x3dom\u001b[0m\u001b[0;34m(\u001b[0m\u001b[0mobject\u001b[0m\u001b[0;34m,\u001b[0m \u001b[0mkwargs\u001b[0m\u001b[0;34m)\u001b[0m\u001b[0;34m\u001b[0m\u001b[0;34m\u001b[0m\u001b[0m\n",
      "\u001b[0;32m/usr/local/lib/python3.6/dist-packages/dolfin/common/plotting.py\u001b[0m in \u001b[0;36m_plot_matplotlib\u001b[0;34m(obj, mesh, kwargs)\u001b[0m\n\u001b[1;32m    263\u001b[0m         raise AttributeError((\"Matplotlib plotting backend doesn't handle %s mesh.\\n\"\n\u001b[1;32m    264\u001b[0m                               \u001b[0;34m\"Possible options are saving the output to XDMF file \"\u001b[0m\u001b[0;34m\u001b[0m\u001b[0;34m\u001b[0m\u001b[0m\n\u001b[0;32m--> 265\u001b[0;31m                               \"or using 'x3dom' backend.\") % mesh.ufl_cell().cellname())\n\u001b[0m\u001b[1;32m    266\u001b[0m \u001b[0;34m\u001b[0m\u001b[0m\n\u001b[1;32m    267\u001b[0m     \u001b[0;31m# Avoid importing pyplot until used\u001b[0m\u001b[0;34m\u001b[0m\u001b[0;34m\u001b[0m\u001b[0;34m\u001b[0m\u001b[0m\n",
      "\u001b[0;31mAttributeError\u001b[0m: Matplotlib plotting backend doesn't handle quadrilateral mesh.\nPossible options are saving the output to XDMF file or using 'x3dom' backend."
     ]
    },
    {
     "data": {
      "text/plain": [
       "<Figure size 1008x1008 with 0 Axes>"
      ]
     },
     "metadata": {},
     "output_type": "display_data"
    }
   ],
   "source": [
    "import matplotlib.pyplot as plt\n",
    "fig = plt.figure(figsize=(14,14))\n",
    "plot(mesh)\n",
    "plt.show()"
   ]
  },
  {
   "cell_type": "markdown",
   "metadata": {},
   "source": [
    "## Define function spaces\n",
    "\n",
    "Next we define the basis functions aka function space for trial and test function:"
   ]
  },
  {
   "cell_type": "code",
   "execution_count": 25,
   "metadata": {},
   "outputs": [
    {
     "name": "stdout",
     "output_type": "stream",
     "text": [
      "Calling FFC just-in-time (JIT) compiler, this may take some time.\n"
     ]
    }
   ],
   "source": [
    "element = FiniteElement(\"Q\", quadrilateral, 2)\n",
    "\n",
    "V = FunctionSpace(mesh, element)"
   ]
  },
  {
   "cell_type": "markdown",
   "metadata": {},
   "source": [
    "The second argument to `FunctionSpace` is the finite element\n",
    "family, while the third argument specifies the polynomial\n",
    "degree. Thus, in this case, our space `V` consists of first-order,\n",
    "continuous Lagrange finite element functions (or in order words,\n",
    "continuous piecewise linear polynomials)."
   ]
  },
  {
   "cell_type": "markdown",
   "metadata": {},
   "source": [
    "## Boundary condition\n",
    "\n",
    "### Define domain for essential BCs\n",
    "\n",
    "Next, we want to consider the Dirichlet boundary condition. A simple\n",
    "Python function, returning a boolean, can be used to define the\n",
    "subdomain for the Dirichlet boundary condition $\\Gamma_D`$. The\n",
    "function should return `True` for those points inside the subdomain\n",
    "and `False` for the points outside. In our case, we want to say that\n",
    "the points $(x, y)$ such that $x = 0$ or $x = 1$ are\n",
    "inside $\\Gamma_D$. \n",
    "> Note that because of rounding-off errors, it is often wise to instead specify $x <\n",
    "\\epsilon$ or $x > 1 - \\epsilon$ where $\\epsilon$ is a small number (such as machine precision)."
   ]
  },
  {
   "cell_type": "code",
   "execution_count": 26,
   "metadata": {},
   "outputs": [],
   "source": [
    "# Define Dirichlet boundary (x = 0 or x = 1)\n",
    "def boundary(x):\n",
    "    return x[0] < DOLFIN_EPS or x[0] > 1.0 - DOLFIN_EPS or x[1] < DOLFIN_EPS or x[1] > 1.0 - DOLFIN_EPS"
   ]
  },
  {
   "cell_type": "markdown",
   "metadata": {},
   "source": [
    "### Define Dirichlet boundary condition\n",
    "\n",
    "Now, the Dirichlet boundary condition can be created using `DirichletBC`. A\n",
    "`DirichletBC` takes three arguments: \n",
    "\n",
    "- the function space the boundary condition applies to, \n",
    "- the value of the boundary condition, and \n",
    "- the part of the boundary on which the condition applies. \n",
    "\n",
    "In our example, the function space is `V`, the value of the boundary condition (0.0) can represented using a\n",
    "`Constant` and the Dirichlet boundary is defined immediately above. The definition of the\n",
    "Dirichlet boundary condition then looks as follows:"
   ]
  },
  {
   "cell_type": "code",
   "execution_count": 27,
   "metadata": {},
   "outputs": [],
   "source": [
    "# Define boundary condition\n",
    "u0 = Constant(0.0)\n",
    "bc = DirichletBC(V, u0, boundary)"
   ]
  },
  {
   "cell_type": "markdown",
   "metadata": {},
   "source": [
    "## Express Variational Problem\n",
    "\n",
    "Next, we want to express the variational problem.  First, we need to\n",
    "specify the trial function `u` and the test function `v`,\n",
    "both living in the function space `V`. We do this by defining a\n",
    "`TrialFunction` and a `TestFunction` on the previously defined\n",
    "function space `V`."
   ]
  },
  {
   "cell_type": "code",
   "execution_count": 28,
   "metadata": {},
   "outputs": [],
   "source": [
    "# Define variational problem\n",
    "u = TrialFunction(V)\n",
    "v = TestFunction(V)"
   ]
  },
  {
   "cell_type": "markdown",
   "metadata": {},
   "source": [
    "Further, the source `g` is involved in the variational forms, and hence we must\n",
    "specify it. `g` is given by a simple\n",
    "mathematical formula, and can be easily declared using a\n",
    "`Constant`."
   ]
  },
  {
   "cell_type": "code",
   "execution_count": 29,
   "metadata": {},
   "outputs": [],
   "source": [
    "g = Constant(1.0);"
   ]
  },
  {
   "cell_type": "markdown",
   "metadata": {},
   "source": [
    "With these ingredients, we can write down the bilinear form ``a`` and\n",
    "the linear form ``L`` (using UFL operators). In summary, this reads:"
   ]
  },
  {
   "cell_type": "code",
   "execution_count": 30,
   "metadata": {},
   "outputs": [],
   "source": [
    "a = inner(grad(u), grad(v))*dx\n",
    "L = g*v*dx "
   ]
  },
  {
   "cell_type": "markdown",
   "metadata": {},
   "source": [
    "## Solve\n",
    "\n",
    "Now, we have specified the variational forms and can consider the\n",
    "solution of the variational problem. First, we need to define a\n",
    "`Function` ``u_sol`` to\n",
    "represent the solution. (Upon initialization, it is simply set to the\n",
    "zero function.) A `Function` represents a function living in\n",
    "a finite element function space. Next, we can call the `solve` function with the arguments `a == L`,\n",
    "`u_sol` and `bc` as follows:"
   ]
  },
  {
   "cell_type": "code",
   "execution_count": 31,
   "metadata": {},
   "outputs": [
    {
     "name": "stdout",
     "output_type": "stream",
     "text": [
      "Calling FFC just-in-time (JIT) compiler, this may take some time.\n",
      "Calling FFC just-in-time (JIT) compiler, this may take some time.\n"
     ]
    }
   ],
   "source": [
    "# Compute solution\n",
    "u_sol = Function(V)\n",
    "solve(a == L, u_sol, bc)"
   ]
  },
  {
   "cell_type": "markdown",
   "metadata": {},
   "source": [
    "The function `u_sol` will be modified during the call to solve. The\n",
    "default settings for solving a variational problem have been\n",
    "used. However, the solution process can be controlled in much more\n",
    "detail if desired."
   ]
  },
  {
   "cell_type": "markdown",
   "metadata": {},
   "source": [
    "## Visualise solution\n",
    "\n",
    "A `Function` can be manipulated in various ways, in particular, it can be plotted and\n",
    "saved to file. Here, we output the solution to a `VTK` file (using\n",
    "the suffix ``.pvd``) for later visualization using [Paraview](https://www.paraview.org/) and also plot it using\n",
    "the `plot` command:"
   ]
  },
  {
   "cell_type": "code",
   "execution_count": 32,
   "metadata": {},
   "outputs": [
    {
     "ename": "AttributeError",
     "evalue": "Matplotlib plotting backend doesn't handle quadrilateral mesh.\nPossible options are saving the output to XDMF file or using 'x3dom' backend.",
     "output_type": "error",
     "traceback": [
      "\u001b[0;31m---------------------------------------------------------------------------\u001b[0m",
      "\u001b[0;31mAttributeError\u001b[0m                            Traceback (most recent call last)",
      "\u001b[0;32m<ipython-input-32-0a87c5600351>\u001b[0m in \u001b[0;36m<module>\u001b[0;34m\u001b[0m\n\u001b[1;32m      6\u001b[0m \u001b[0;32mimport\u001b[0m \u001b[0mmatplotlib\u001b[0m\u001b[0;34m.\u001b[0m\u001b[0mpyplot\u001b[0m \u001b[0;32mas\u001b[0m \u001b[0mplt\u001b[0m\u001b[0;34m\u001b[0m\u001b[0;34m\u001b[0m\u001b[0m\n\u001b[1;32m      7\u001b[0m \u001b[0mfig\u001b[0m \u001b[0;34m=\u001b[0m \u001b[0mplt\u001b[0m\u001b[0;34m.\u001b[0m\u001b[0mfigure\u001b[0m\u001b[0;34m(\u001b[0m\u001b[0mfigsize\u001b[0m\u001b[0;34m=\u001b[0m\u001b[0;34m(\u001b[0m\u001b[0;36m12\u001b[0m\u001b[0;34m,\u001b[0m\u001b[0;36m12\u001b[0m\u001b[0;34m)\u001b[0m\u001b[0;34m)\u001b[0m\u001b[0;34m\u001b[0m\u001b[0;34m\u001b[0m\u001b[0m\n\u001b[0;32m----> 8\u001b[0;31m \u001b[0mplot\u001b[0m\u001b[0;34m(\u001b[0m\u001b[0mu_sol\u001b[0m\u001b[0;34m)\u001b[0m\u001b[0;34m\u001b[0m\u001b[0;34m\u001b[0m\u001b[0m\n\u001b[0m\u001b[1;32m      9\u001b[0m \u001b[0mplt\u001b[0m\u001b[0;34m.\u001b[0m\u001b[0mshow\u001b[0m\u001b[0;34m(\u001b[0m\u001b[0;34m)\u001b[0m\u001b[0;34m\u001b[0m\u001b[0;34m\u001b[0m\u001b[0m\n",
      "\u001b[0;32m/usr/local/lib/python3.6/dist-packages/dolfin/common/plotting.py\u001b[0m in \u001b[0;36mplot\u001b[0;34m(object, *args, **kwargs)\u001b[0m\n\u001b[1;32m    436\u001b[0m     \u001b[0;31m# Plot\u001b[0m\u001b[0;34m\u001b[0m\u001b[0;34m\u001b[0m\u001b[0;34m\u001b[0m\u001b[0m\n\u001b[1;32m    437\u001b[0m     \u001b[0;32mif\u001b[0m \u001b[0mbackend\u001b[0m \u001b[0;34m==\u001b[0m \u001b[0;34m\"matplotlib\"\u001b[0m\u001b[0;34m:\u001b[0m\u001b[0;34m\u001b[0m\u001b[0;34m\u001b[0m\u001b[0m\n\u001b[0;32m--> 438\u001b[0;31m         \u001b[0;32mreturn\u001b[0m \u001b[0m_plot_matplotlib\u001b[0m\u001b[0;34m(\u001b[0m\u001b[0mobject\u001b[0m\u001b[0;34m,\u001b[0m \u001b[0mmesh\u001b[0m\u001b[0;34m,\u001b[0m \u001b[0mkwargs\u001b[0m\u001b[0;34m)\u001b[0m\u001b[0;34m\u001b[0m\u001b[0;34m\u001b[0m\u001b[0m\n\u001b[0m\u001b[1;32m    439\u001b[0m     \u001b[0;32melif\u001b[0m \u001b[0mbackend\u001b[0m \u001b[0;34m==\u001b[0m \u001b[0;34m\"x3dom\"\u001b[0m\u001b[0;34m:\u001b[0m\u001b[0;34m\u001b[0m\u001b[0;34m\u001b[0m\u001b[0m\n\u001b[1;32m    440\u001b[0m         \u001b[0;32mreturn\u001b[0m \u001b[0m_plot_x3dom\u001b[0m\u001b[0;34m(\u001b[0m\u001b[0mobject\u001b[0m\u001b[0;34m,\u001b[0m \u001b[0mkwargs\u001b[0m\u001b[0;34m)\u001b[0m\u001b[0;34m\u001b[0m\u001b[0;34m\u001b[0m\u001b[0m\n",
      "\u001b[0;32m/usr/local/lib/python3.6/dist-packages/dolfin/common/plotting.py\u001b[0m in \u001b[0;36m_plot_matplotlib\u001b[0;34m(obj, mesh, kwargs)\u001b[0m\n\u001b[1;32m    263\u001b[0m         raise AttributeError((\"Matplotlib plotting backend doesn't handle %s mesh.\\n\"\n\u001b[1;32m    264\u001b[0m                               \u001b[0;34m\"Possible options are saving the output to XDMF file \"\u001b[0m\u001b[0;34m\u001b[0m\u001b[0;34m\u001b[0m\u001b[0m\n\u001b[0;32m--> 265\u001b[0;31m                               \"or using 'x3dom' backend.\") % mesh.ufl_cell().cellname())\n\u001b[0m\u001b[1;32m    266\u001b[0m \u001b[0;34m\u001b[0m\u001b[0m\n\u001b[1;32m    267\u001b[0m     \u001b[0;31m# Avoid importing pyplot until used\u001b[0m\u001b[0;34m\u001b[0m\u001b[0;34m\u001b[0m\u001b[0;34m\u001b[0m\u001b[0m\n",
      "\u001b[0;31mAttributeError\u001b[0m: Matplotlib plotting backend doesn't handle quadrilateral mesh.\nPossible options are saving the output to XDMF file or using 'x3dom' backend."
     ]
    },
    {
     "data": {
      "text/plain": [
       "<Figure size 864x864 with 0 Axes>"
      ]
     },
     "metadata": {},
     "output_type": "display_data"
    }
   ],
   "source": [
    " # Save solution in VTK format\n",
    "file = File(\"/home/fenics/shared/poisson.pvd\")\n",
    "file << u_sol\n",
    "\n",
    "# Plot solution\n",
    "import matplotlib.pyplot as plt\n",
    "fig = plt.figure(figsize=(12,12))\n",
    "plot(u_sol)\n",
    "plt.show()"
   ]
  },
  {
   "cell_type": "code",
   "execution_count": null,
   "metadata": {},
   "outputs": [],
   "source": []
  }
 ],
 "metadata": {
  "kernelspec": {
   "display_name": "Python 3",
   "language": "python",
   "name": "python3"
  },
  "language_info": {
   "codemirror_mode": {
    "name": "ipython",
    "version": 3
   },
   "file_extension": ".py",
   "mimetype": "text/x-python",
   "name": "python",
   "nbconvert_exporter": "python",
   "pygments_lexer": "ipython3",
   "version": "3.6.9"
  }
 },
 "nbformat": 4,
 "nbformat_minor": 4
}
